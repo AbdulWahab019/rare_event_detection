{
 "cells": [
  {
   "cell_type": "code",
   "execution_count": null,
   "metadata": {},
   "outputs": [
    {
     "name": "stderr",
     "output_type": "stream",
     "text": [
      "c:\\users\\thomas\\miniconda3\\envs\\ml\\lib\\site-packages\\h5py\\__init__.py:36: FutureWarning: Conversion of the second argument of issubdtype from `float` to `np.floating` is deprecated. In future, it will be treated as `np.float64 == np.dtype(float).type`.\n",
      "  from ._conv import register_converters as _register_converters\n"
     ]
    }
   ],
   "source": [
    "import numpy as np\n",
    "import tensorflow as tf"
   ]
  },
  {
   "cell_type": "code",
   "execution_count": 5,
   "metadata": {},
   "outputs": [
    {
     "name": "stdout",
     "output_type": "stream",
     "text": [
      "(16, 1)\n",
      "[[ 1.]\n",
      " [ 2.]\n",
      " [ 3.]\n",
      " [ 4.]\n",
      " [ 5.]\n",
      " [ 6.]\n",
      " [ 7.]\n",
      " [ 8.]\n",
      " [ 9.]\n",
      " [10.]\n",
      " [11.]\n",
      " [12.]\n",
      " [13.]\n",
      " [14.]\n",
      " [15.]\n",
      " [16.]]\n",
      "(4, 4, 1)\n",
      "[[[ 1.]\n",
      "  [ 2.]\n",
      "  [ 3.]\n",
      "  [ 4.]]\n",
      "\n",
      " [[ 5.]\n",
      "  [ 6.]\n",
      "  [ 7.]\n",
      "  [ 8.]]\n",
      "\n",
      " [[ 9.]\n",
      "  [10.]\n",
      "  [11.]\n",
      "  [12.]]\n",
      "\n",
      " [[13.]\n",
      "  [14.]\n",
      "  [15.]\n",
      "  [16.]]]\n"
     ]
    }
   ],
   "source": [
    "arr = np.array([[1.],[2.],[3.],[4.],[5.],[6.],[7.],[8.],[9.],[10.],[11.],[12.],[13.],[14.],[15.],[16.]])\n",
    "print(arr.shape)\n",
    "print(arr)\n",
    "rs = np.reshape(arr, [-1, 4, 1])\n",
    "print(rs.shape)\n",
    "print(rs)"
   ]
  },
  {
   "cell_type": "code",
   "execution_count": 25,
   "metadata": {},
   "outputs": [
    {
     "name": "stdout",
     "output_type": "stream",
     "text": [
      "RESHAPE:\n",
      "(4, 4, 1)\n",
      "[[[ 1.]\n",
      "  [ 2.]\n",
      "  [ 3.]\n",
      "  [ 4.]]\n",
      "\n",
      " [[ 5.]\n",
      "  [ 6.]\n",
      "  [ 7.]\n",
      "  [ 8.]]\n",
      "\n",
      " [[ 9.]\n",
      "  [10.]\n",
      "  [11.]\n",
      "  [12.]]\n",
      "\n",
      " [[13.]\n",
      "  [14.]\n",
      "  [15.]\n",
      "  [16.]]]\n",
      "SPLIT:\n",
      "split 1\n",
      "(2, 1)\n",
      "[[4.]\n",
      " [8.]]\n",
      "split 2\n",
      "(2, 4, 1)\n",
      "[[[ 9.]\n",
      "  [10.]\n",
      "  [11.]\n",
      "  [12.]]\n",
      "\n",
      " [[13.]\n",
      "  [14.]\n",
      "  [15.]\n",
      "  [16.]]]\n"
     ]
    }
   ],
   "source": [
    "with tf.Session() as sess:\n",
    "    _input = tf.placeholder(tf.float32, (None, 1))\n",
    "    reshape = tf.reshape(_input, [-1, 4, 1])\n",
    "    print(\"RESHAPE:\")\n",
    "    output = sess.run(reshape, {_input: arr})\n",
    "    print(output.shape)\n",
    "    print(output)\n",
    "    \n",
    "    print(\"SPLIT:\")\n",
    "    split1, split2 = tf.split(reshape, num_or_size_splits=2)\n",
    "    print(\"split 1\")\n",
    "    output = sess.run(tf.reduce_max(split1, axis=1), {_input: arr})\n",
    "    print(output.shape)\n",
    "    print(output)\n",
    "    print(\"split 2\")\n",
    "    output = sess.run(split2, {_input: arr})\n",
    "    print(output.shape)\n",
    "    print(output)\n",
    "    \n",
    "\n",
    "    "
   ]
  },
  {
   "cell_type": "code",
   "execution_count": null,
   "metadata": {},
   "outputs": [],
   "source": []
  },
  {
   "cell_type": "code",
   "execution_count": null,
   "metadata": {},
   "outputs": [],
   "source": []
  }
 ],
 "metadata": {
  "kernelspec": {
   "display_name": "Python 3",
   "language": "python",
   "name": "python3"
  },
  "language_info": {
   "codemirror_mode": {
    "name": "ipython",
    "version": 3
   },
   "file_extension": ".py",
   "mimetype": "text/x-python",
   "name": "python",
   "nbconvert_exporter": "python",
   "pygments_lexer": "ipython3",
   "version": "3.6.4"
  }
 },
 "nbformat": 4,
 "nbformat_minor": 2
}
